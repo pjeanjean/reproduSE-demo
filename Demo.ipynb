{
 "cells": [
  {
   "cell_type": "markdown",
   "id": "ba3e1d21-aeb0-4203-90e7-919be79e8df9",
   "metadata": {
    "tags": []
   },
   "source": [
    "# ReproduSE demo\n",
    "\n",
    "This notebook only showcases snippets from several languages, running through IPython.\n",
    "\n",
    "PRs accepted over [here](https://github.com/pjeanjean/reproduSE-demo/pulls)."
   ]
  },
  {
   "cell_type": "code",
   "execution_count": 5,
   "id": "b9f66028-64fa-433e-a9fc-58886e0ff3b8",
   "metadata": {},
   "outputs": [
    {
     "name": "stdout",
     "output_type": "stream",
     "text": [
      "Hello World\n"
     ]
    }
   ],
   "source": [
    "%%script ijava\n",
    "\n",
    "class A { \n",
    "    public static String test() {\n",
    "        return \"Hello World\";\n",
    "    }\n",
    "}\n",
    "System.out.println(new A().test())"
   ]
  },
  {
   "cell_type": "code",
   "execution_count": 9,
   "id": "a65ded80-4e59-402b-b753-d3e3178f85d4",
   "metadata": {},
   "outputs": [
    {
     "data": {
      "text/plain": [
       "<_GatheringFuture pending>"
      ]
     },
     "execution_count": 9,
     "metadata": {},
     "output_type": "execute_result"
    },
    {
     "name": "stdout",
     "output_type": "stream",
     "text": [
      "0\n",
      "1\n",
      "2\n",
      "3\n",
      "4\n",
      "5\n",
      "6\n",
      "7\n",
      "8\n",
      "9\n",
      "10\n",
      "11\n",
      "12\n",
      "13\n",
      "14\n",
      "15\n",
      "16\n",
      "17\n",
      "18\n",
      "19\n",
      "20\n",
      "21\n",
      "22\n",
      "23\n",
      "24\n",
      "25\n",
      "26\n",
      "27\n",
      "28\n",
      "29\n",
      "30\n",
      "31\n",
      "32\n",
      "33\n",
      "34\n",
      "35\n",
      "36\n",
      "37\n",
      "38\n",
      "39\n",
      "40\n",
      "41\n"
     ]
    }
   ],
   "source": [
    "import asyncio\n",
    "\n",
    "async def async_printer(val: int) -> None:\n",
    "    print(val)\n",
    "    \n",
    "asyncio.gather(*[async_printer(i) for i in range(42)])"
   ]
  }
 ],
 "metadata": {
  "kernelspec": {
   "display_name": "Python 3 (ipykernel)",
   "language": "python",
   "name": "python3"
  },
  "language_info": {
   "codemirror_mode": {
    "name": "ipython",
    "version": 3
   },
   "file_extension": ".py",
   "mimetype": "text/x-python",
   "name": "python",
   "nbconvert_exporter": "python",
   "pygments_lexer": "ipython3",
   "version": "3.10.6"
  }
 },
 "nbformat": 4,
 "nbformat_minor": 5
}

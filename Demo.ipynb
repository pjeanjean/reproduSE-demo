{
 "cells": [
  {
   "cell_type": "markdown",
   "id": "ba3e1d21-aeb0-4203-90e7-919be79e8df9",
   "metadata": {
    "tags": []
   },
   "source": [
    "# ReproduSE demo\n",
    "\n",
    "This notebook only showcases snippets from several languages, running through IPython.\n",
    "\n",
    "PRs accepted over [here](https://github.com/pjeanjean/reproduSE-demo/pulls)."
   ]
  },
  {
   "cell_type": "code",
   "execution_count": null,
   "id": "b9f66028-64fa-433e-a9fc-58886e0ff3b8",
   "metadata": {},
   "outputs": [],
   "source": [
    "%%script ijava\n",
    "\n",
    "class A { \n",
    "    public static String test() {\n",
    "        return \"Hello World\";\n",
    "    }\n",
    "}\n",
    "System.out.println(new A().test())"
   ]
  },
  {
   "cell_type": "code",
   "execution_count": null,
   "id": "a65ded80-4e59-402b-b753-d3e3178f85d4",
   "metadata": {},
   "outputs": [],
   "source": [
    "import asyncio\n",
    "\n",
    "async def async_printer(val: int) -> None:\n",
    "    print(val)\n",
    "    \n",
    "ret = await asyncio.gather(*[async_printer(i) for i in range(42)])"
   ]
  },
  {
   "cell_type": "code",
   "execution_count": null,
   "id": "71e04bff-fbc6-4974-991d-8415d9fcf123",
   "metadata": {},
   "outputs": [],
   "source": [
    "%%script bash\n",
    "\n",
    "echo 42"
   ]
  }
 ],
 "metadata": {
  "kernelspec": {
   "display_name": "Python 3 (ipykernel)",
   "language": "python",
   "name": "python3"
  },
  "language_info": {
   "codemirror_mode": {
    "name": "ipython",
    "version": 3
   },
   "file_extension": ".py",
   "mimetype": "text/x-python",
   "name": "python",
   "nbconvert_exporter": "python",
   "pygments_lexer": "ipython3",
   "version": "3.10.6"
  }
 },
 "nbformat": 4,
 "nbformat_minor": 5
}
